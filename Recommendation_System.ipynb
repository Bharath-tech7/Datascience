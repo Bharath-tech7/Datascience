{
  "cells": [
    {
      "cell_type": "code",
      "execution_count": 12,
      "metadata": {
        "id": "aFj0gaI9GYZY"
      },
      "outputs": [],
      "source": [
        "import pandas as pd\n",
        "import numpy as np\n",
        "from sklearn.metrics.pairwise import cosine_similarity\n",
        "from sklearn.preprocessing import MultiLabelBinarizer, StandardScaler\n",
        "from sklearn.model_selection import train_test_split"
      ]
    },
    {
      "cell_type": "code",
      "execution_count": 14,
      "metadata": {
        "id": "IxIPLqbLKCW-"
      },
      "outputs": [],
      "source": [
        "# Load the dataset\n",
        "try:\n",
        "    df = pd.read_csv('anime.csv')\n",
        "except FileNotFoundError:\n",
        "    print(\"Error: The 'anime.csv' file was not found. Please ensure it's in the same directory as the script.\")\n",
        "    exit()"
      ]
    },
    {
      "cell_type": "code",
      "execution_count": 15,
      "metadata": {
        "colab": {
          "base_uri": "https://localhost:8080/"
        },
        "id": "nCjjZ4-BKPw1",
        "outputId": "0143e468-1b68-4be7-e30a-d9703163f236"
      },
      "outputs": [
        {
          "name": "stderr",
          "output_type": "stream",
          "text": [
            "/tmp/ipython-input-3317572970.py:2: FutureWarning: A value is trying to be set on a copy of a DataFrame or Series through chained assignment using an inplace method.\n",
            "The behavior will change in pandas 3.0. This inplace method will never work because the intermediate object on which we are setting values always behaves as a copy.\n",
            "\n",
            "For example, when doing 'df[col].method(value, inplace=True)', try using 'df.method({col: value}, inplace=True)' or df[col] = df[col].method(value) instead, to perform the operation inplace on the original object.\n",
            "\n",
            "\n",
            "  df['genre'].fillna('Unknown', inplace=True)\n",
            "/tmp/ipython-input-3317572970.py:3: FutureWarning: A value is trying to be set on a copy of a DataFrame or Series through chained assignment using an inplace method.\n",
            "The behavior will change in pandas 3.0. This inplace method will never work because the intermediate object on which we are setting values always behaves as a copy.\n",
            "\n",
            "For example, when doing 'df[col].method(value, inplace=True)', try using 'df.method({col: value}, inplace=True)' or df[col] = df[col].method(value) instead, to perform the operation inplace on the original object.\n",
            "\n",
            "\n",
            "  df['rating'].fillna(df['rating'].mean(), inplace=True)\n"
          ]
        }
      ],
      "source": [
        "# Handle missing values\n",
        "df['genre'].fillna('Unknown', inplace=True)\n",
        "df['rating'].fillna(df['rating'].mean(), inplace=True)\n",
        "df['episodes'] = pd.to_numeric(df['episodes'], errors='coerce').fillna(0)\n",
        "df['name'] = df['name'].str.replace('&#039;', \"'\")"
      ]
    },
    {
      "cell_type": "code",
      "execution_count": 16,
      "metadata": {
        "id": "tZmyaLloKaIQ"
      },
      "outputs": [],
      "source": [
        "# Step 2: Feature Extraction\n",
        "# Convert genres to a one-hot encoded matrix\n",
        "df['genre'] = df['genre'].apply(lambda x: x.split(', '))\n",
        "mlb = MultiLabelBinarizer()\n",
        "genre_matrix = mlb.fit_transform(df['genre'])\n",
        "genre_df = pd.DataFrame(genre_matrix, columns=mlb.classes_)"
      ]
    },
    {
      "cell_type": "code",
      "execution_count": 17,
      "metadata": {
        "id": "e0I1ghlYKjHM"
      },
      "outputs": [],
      "source": [
        "# Step 3: Recommendation System\n",
        "# Calculate cosine similarity matrix\n",
        "cosine_sim_matrix = cosine_similarity(features_df)"
      ]
    },
    {
      "cell_type": "code",
      "execution_count": 22,
      "metadata": {
        "id": "FkRl04WvKw_-"
      },
      "outputs": [],
      "source": [
        "def recommend_anime(anime_name, top_n=10):\n",
        "    \"\"\"Recommends anime based on cosine similarity.\"\"\"\n",
        "    if anime_name not in df['name'].values:\n",
        "        print(f\"'{anime_name}' not found in the dataset.\")\n",
        "        return pd.DataFrame()\n",
        "\n",
        "    anime_index = df[df['name'] == anime_name].index[0]\n",
        "    sim_scores = list(enumerate(cosine_sim_matrix[anime_index]))\n",
        "    sim_scores = sorted(sim_scores, key=lambda x: x[1], reverse=True)[1:top_n+1]\n",
        "\n",
        "    anime_indices = [i[0] for i in sim_scores]\n",
        "    recommendation_scores = [i[1] for i in sim_scores]\n",
        "\n",
        "    recommended_anime = df.iloc[anime_indices].copy()\n",
        "    recommended_anime['similarity_score'] = recommendation_scores\n",
        "\n",
        "    return recommended_anime[['name', 'genre', 'rating', 'similarity_score']]"
      ]
    },
    {
      "cell_type": "code",
      "execution_count": 26,
      "metadata": {
        "colab": {
          "base_uri": "https://localhost:8080/"
        },
        "id": "72laEgyeLAhk",
        "outputId": "4c2cc81a-c7f4-4758-91db-102f32238927"
      },
      "outputs": [
        {
          "name": "stdout",
          "output_type": "stream",
          "text": [
            "Recommended Anime for 'Steins;Gate':\n"
          ]
        }
      ],
      "source": [
        "# Example usage of the recommendation function\n",
        "print(\"Recommended Anime for 'Steins;Gate':\")"
      ]
    },
    {
      "cell_type": "code",
      "execution_count": 25,
      "metadata": {
        "colab": {
          "base_uri": "https://localhost:8080/"
        },
        "id": "0e-CeRJELF-a",
        "outputId": "c8a6b48f-ea04-4fac-a882-98eb9bc335c7"
      },
      "outputs": [
        {
          "name": "stdout",
          "output_type": "stream",
          "text": [
            "                                 name  \\\n",
            "40                         Death Note   \n",
            "19    Code Geass: Hangyaku no Lelouch   \n",
            "86                 Shingeki no Kyojin   \n",
            "98                        Psycho-Pass   \n",
            "166                        Durarara!!   \n",
            "29         Tengen Toppa Gurren Lagann   \n",
            "131                         Toradora!   \n",
            "1    Fullmetal Alchemist: Brotherhood   \n",
            "159                      Angel Beats!   \n",
            "250                 Zankyou no Terror   \n",
            "\n",
            "                                                 genre  rating  \\\n",
            "40   [Mystery, Police, Psychological, Supernatural,...    8.71   \n",
            "19   [Action, Mecha, Military, School, Sci-Fi, Supe...    8.83   \n",
            "86      [Action, Drama, Fantasy, Shounen, Super Power]    8.54   \n",
            "98             [Action, Police, Psychological, Sci-Fi]    8.50   \n",
            "166                    [Action, Mystery, Supernatural]    8.38   \n",
            "29          [Action, Adventure, Comedy, Mecha, Sci-Fi]    8.78   \n",
            "131           [Comedy, Romance, School, Slice of Life]    8.45   \n",
            "1    [Action, Adventure, Drama, Fantasy, Magic, Mil...    9.26   \n",
            "159      [Action, Comedy, Drama, School, Supernatural]    8.39   \n",
            "250                          [Psychological, Thriller]    8.26   \n",
            "\n",
            "     similarity_score  \n",
            "40           0.985379  \n",
            "19           0.981478  \n",
            "86           0.979629  \n",
            "98           0.978991  \n",
            "166          0.978281  \n",
            "29           0.978022  \n",
            "131          0.977381  \n",
            "1            0.976625  \n",
            "159          0.976286  \n",
            "250          0.976141  \n"
          ]
        }
      ],
      "source": [
        "print(recommend_anime('Steins;Gate'))"
      ]
    },
    {
      "cell_type": "code",
      "execution_count": 27,
      "metadata": {
        "id": "G1hUzg_aLp7U"
      },
      "outputs": [],
      "source": [
        "# Step 4: Evaluation\n",
        "# Split a subset of the data for evaluation\n",
        "df_action = df[df['genre'].apply(lambda x: 'Action' in x)]\n",
        "if len(df_action) > 1:\n",
        "    train_anime, test_anime = train_test_split(df_action, test_size=0.3, random_state=42)"
      ]
    },
    {
      "cell_type": "code",
      "execution_count": 37,
      "metadata": {
        "colab": {
          "base_uri": "https://localhost:8080/"
        },
        "id": "SpQYihXVLzrq",
        "outputId": "4ae343fa-bf7c-44c7-d1f8-9842db909b78"
      },
      "outputs": [
        {
          "name": "stdout",
          "output_type": "stream",
          "text": [
            "\n",
            "Evaluation Metrics for recommendations based on 'Majuu Sensen: The Apocalypse':\n",
            "Precision: 0.0433\n",
            "Recall: 0.0433\n",
            "F1-Score: 0.0433\n"
          ]
        }
      ],
      "source": [
        "if not train_anime.empty:\n",
        "    target_anime_name = train_anime.iloc[0]['name']\n",
        "    # Get recommendations to evaluate\n",
        "    recommendations = recommend_anime(target_anime_name, top_n=len(test_anime))\n",
        "\n",
        "    # Calculate and print evaluation metrics\n",
        "    retrieved_items = set(recommendations['name'].values)\n",
        "    relevant_items = set(test_anime['name'].values)\n",
        "    true_positives = len(retrieved_items.intersection(relevant_items))\n",
        "    precision = true_positives / len(retrieved_items) if len(retrieved_items) > 0 else 0\n",
        "    recall = true_positives / len(relevant_items) if len(relevant_items) > 0 else 0\n",
        "    f1 = 2 * (precision * recall) / (precision + recall) if (precision + recall) > 0 else 0\n",
        "\n",
        "    print(f\"\\nEvaluation Metrics for recommendations based on '{target_anime_name}':\")\n",
        "    print(f\"Precision: {precision:.4f}\")\n",
        "    print(f\"Recall: {recall:.4f}\")\n",
        "    print(f\"F1-Score: {f1:.4f}\")\n",
        "else:\n",
        "    print(\"\\nNot enough 'Action' genre anime to split into training and testing sets for evaluation.\")\n"
      ]
    },
    {
      "cell_type": "code",
      "execution_count": null,
      "metadata": {},
      "outputs": [],
      "source": [
        "Interview Questions.\n",
        "1.Can you explain the difference between user-based and item-based collaborative filtering?\n",
        "Ans: User based and item based collaborative filtering are two fundamental approaches in recommender systems that differ in how they determine similarity to make recommendations.\n",
        "they are both types of memory-based collaborative filtering, which means they use the entire user item interaction dataset to generate recommendations.\n",
        "User based collaborative filtering:\n",
        ">Finding similar users.\n",
        ">Generating recommendations.\n",
        "Item based collaborative Filtering:\n",
        ">Finding similar items.\n",
        ">Generating recommendations.\n",
        "\n",
        "\n",
        "\n",
        "2.What is collaborative filtering, and how does it work?\n",
        "Ans: Collaborative filtering is a type of recommender system that predicts a users interest by collecting and analyzing information from many users.\n",
        "The process of collaborative filtering can be broken down into few steps:\n",
        ">Data Collection.\n",
        ">Finding Similarities.\n",
        ">Making recommendations.\n"
      ]
    }
  ],
  "metadata": {
    "colab": {
      "provenance": []
    },
    "kernelspec": {
      "display_name": "Python 3",
      "name": "python3"
    },
    "language_info": {
      "name": "python"
    }
  },
  "nbformat": 4,
  "nbformat_minor": 0
}
